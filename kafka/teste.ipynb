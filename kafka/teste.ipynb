{
 "cells": [
  {
   "cell_type": "code",
   "execution_count": 3,
   "metadata": {},
   "outputs": [],
   "source": [
    "from kafka import KafkaProducer\n",
    "import kafka.errors\n",
    "from kafka.admin import KafkaAdminClient, NewTopic"
   ]
  },
  {
   "cell_type": "code",
   "execution_count": 14,
   "metadata": {},
   "outputs": [
    {
     "name": "stdout",
     "output_type": "stream",
     "text": [
      "RecordMetadata(topic='gatos', partition=0, topic_partition=TopicPartition(topic='gatos', partition=0), offset=1, timestamp=1643303114988, log_start_offset=0, checksum=None, serialized_key_size=-1, serialized_value_size=28, serialized_header_size=40) <class 'kafka.producer.future.RecordMetadata'>\n"
     ]
    }
   ],
   "source": [
    "# admin_kafka = KafkaAdminClient(bootstrap_servers=\"localhost:9092\",client_id=\"kafka\")\n",
    "\n",
    "# admin_client = KafkaAdminClient(\n",
    "#     bootstrap_servers=\"localhost:9092\", \n",
    "#     client_id='test'\n",
    "# )\n",
    "# print(admin_kafka)\n",
    "\n",
    "producer = KafkaProducer(bootstrap_servers='localhost:9093')\n",
    "msg = producer.send('gatos',\n",
    "                    value=b'mensagem numero 4 com header', \n",
    "                    headers=[('timestamp', b'2022-01-27_14:02:07'),('origem',b'meu pc')])\n",
    "\n",
    "msg.get(timeout=1)\n",
    "producer.flush()\n",
    "\n",
    "# new_topics = ['cats','dogs']\n",
    "# response = admin_kafka.create_topics(new_topics)\n",
    "# print(response)"
   ]
  }
 ],
 "metadata": {
  "interpreter": {
   "hash": "aee8b7b246df8f9039afb4144a1f6fd8d2ca17a180786b69acc140d282b71a49"
  },
  "kernelspec": {
   "display_name": "Python 3.9.9 64-bit",
   "language": "python",
   "name": "python3"
  },
  "language_info": {
   "codemirror_mode": {
    "name": "ipython",
    "version": 3
   },
   "file_extension": ".py",
   "mimetype": "text/x-python",
   "name": "python",
   "nbconvert_exporter": "python",
   "pygments_lexer": "ipython3",
   "version": "3.9.9"
  },
  "orig_nbformat": 4
 },
 "nbformat": 4,
 "nbformat_minor": 2
}
